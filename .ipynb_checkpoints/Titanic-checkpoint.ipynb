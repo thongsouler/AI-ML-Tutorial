{
 "cells": [
  {
   "cell_type": "markdown",
   "metadata": {},
   "source": [
    "# Exploratory Data Analysis Làm Quen - Titanic Dataset\n",
    "- Dữ liệu lấy từ competion trang Kaggle - Titanic \n",
    "- Việc phân tích khám phá dữ liệu EDA này là 1 bước sẽ trợ giúp trong phần tiếp cận, xây dựng mô hình học tập có giám sát - Machine Learning\n",
    "# Nhập dữ liệu và kiểm tra ban đầu\n",
    "- Để đọc dữ liệu, chúng ta sẽ dùng thư viện pandas và func read_csv()\n"
   ]
  },
  {
   "cell_type": "code",
   "execution_count": 1,
   "metadata": {},
   "outputs": [],
   "source": [
    "# Đầu tiên là phải nhập các thư viện cần sử dụng\n",
    "# Import modules\n",
    "import pandas as pd\n",
    "import matplotlib.pyplot as plt\n",
    "import seaborn as sns\n",
    "from sklearn import tree\n",
    "from sklearn.metrics import accuracy_score\n",
    "# Figures inline and set visualization style\n",
    "%matplotlib inline\n",
    "sns.set()"
   ]
  },
  {
   "cell_type": "code",
   "execution_count": null,
   "metadata": {},
   "outputs": [],
   "source": [
    "# Chúng ta bắt đầu nào. \n",
    "# Nhập dữ liệu từ file csv\n"
   ]
  }
 ],
 "metadata": {
  "kernelspec": {
   "display_name": "Python 3",
   "language": "python",
   "name": "python3"
  },
  "language_info": {
   "codemirror_mode": {
    "name": "ipython",
    "version": 3
   },
   "file_extension": ".py",
   "mimetype": "text/x-python",
   "name": "python",
   "nbconvert_exporter": "python",
   "pygments_lexer": "ipython3",
   "version": "3.8.5"
  }
 },
 "nbformat": 4,
 "nbformat_minor": 4
}
